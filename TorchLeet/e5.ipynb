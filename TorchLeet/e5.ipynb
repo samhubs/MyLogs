{
 "cells": [
  {
   "cell_type": "markdown",
   "metadata": {},
   "source": [
    "### Implement a Deep Neural Network"
   ]
  },
  {
   "cell_type": "code",
   "execution_count": 1,
   "metadata": {},
   "outputs": [],
   "source": [
    "import torch\n",
    "import torch.nn as nn\n",
    "from matplotlib import pyplot as plt"
   ]
  },
  {
   "cell_type": "code",
   "execution_count": 26,
   "metadata": {},
   "outputs": [],
   "source": [
    "# Generate synthetic data\n",
    "torch.manual_seed(42)\n",
    "X = torch.rand(100, 2) * 10  # 100 data points with 2 features\n",
    "y = (X[:, 0] + X[:, 1] * 2).unsqueeze(1) + torch.randn(100, 1)  # Non-linear relationship with noise"
   ]
  },
  {
   "cell_type": "code",
   "execution_count": 27,
   "metadata": {},
   "outputs": [],
   "source": [
    "class CustomDNN(nn.Module):\n",
    "    def __init__(self, input_dim, hidden_dim):\n",
    "        super().__init__()\n",
    "        self.model = nn.Sequential(\n",
    "            nn.Linear(input_dim, hidden_dim),\n",
    "            nn.ReLU(),\n",
    "            nn.Linear(hidden_dim, 1)\n",
    "        )\n",
    "    def forward(self, x):\n",
    "        x = self.model(x)\n",
    "        return x"
   ]
  },
  {
   "cell_type": "code",
   "execution_count": 28,
   "metadata": {},
   "outputs": [],
   "source": [
    "class CustomDataset(torch.utils.data.Dataset):\n",
    "    def __init__(self, X, y):\n",
    "        super().__init__()\n",
    "        self.X = X\n",
    "        self.y = y\n",
    "        \n",
    "    def __len__(self):\n",
    "        return len(self.X[:, 0])\n",
    "    \n",
    "    def __getitem__(self, index):\n",
    "        return self.X[index, :], self.y[index]\n",
    "    \n",
    "class CustomLoss(nn.Module):\n",
    "    def __init__(self, beta):\n",
    "        super().__init__()\n",
    "        self.beta = beta\n",
    "        \n",
    "    def forward(self, pred, y):\n",
    "        dev = pred - y\n",
    "        map_function = dev.abs() <= self.beta\n",
    "        loss = torch.where(map_function, 0.5*(dev**2), self.beta*dev.abs() - 0.5*self.beta) \n",
    "        return loss.mean()"
   ]
  },
  {
   "cell_type": "code",
   "execution_count": 29,
   "metadata": {},
   "outputs": [
    {
     "name": "stdout",
     "output_type": "stream",
     "text": [
      "(tensor([2.5657, 7.9364]), tensor([18.2536]))\n"
     ]
    }
   ],
   "source": [
    "dataset = CustomDataset(X, y)\n",
    "print(dataset.__getitem__(3))"
   ]
  },
  {
   "cell_type": "code",
   "execution_count": 30,
   "metadata": {},
   "outputs": [],
   "source": [
    "dataset = CustomDataset(X, y)\n",
    "train_dataloader = torch.utils.data.DataLoader(dataset, batch_size=100)\n",
    "model = CustomDNN(2, 8)\n",
    "criterion = nn.MSELoss()\n",
    "custom_criterion = CustomLoss(1.0)\n",
    "optimizer = torch.optim.SGD(model.parameters(), lr=0.001)"
   ]
  },
  {
   "cell_type": "code",
   "execution_count": 31,
   "metadata": {},
   "outputs": [
    {
     "name": "stdout",
     "output_type": "stream",
     "text": [
      "torch.Size([100, 2]) torch.Size([100, 1])\n",
      "Loss = 306.88970947265625\n",
      "Loss = 0.7754282355308533\n",
      "Loss = 0.7585095167160034\n",
      "Loss = 0.7529838681221008\n",
      "Loss = 0.7483873963356018\n",
      "Loss = 0.7445487976074219\n",
      "Loss = 0.7413382530212402\n",
      "Loss = 0.7386481761932373\n",
      "Loss = 0.7363910675048828\n",
      "Loss = 0.7344982028007507\n"
     ]
    }
   ],
   "source": [
    "epochs = 1000\n",
    "print(X.shape, y.shape)\n",
    "for epoch in range(epochs):\n",
    "    \n",
    "    for X_train, y_train in train_dataloader:\n",
    "        # print(X_train.shape, y_train.shape)\n",
    "        pred = model(X_train)\n",
    "        loss = criterion(pred, y_train)\n",
    "        optimizer.zero_grad()\n",
    "        loss.backward()\n",
    "        optimizer.step()\n",
    "    if epoch %100 == 0:\n",
    "        print(f\"Loss = {loss}\")\n"
   ]
  },
  {
   "cell_type": "code",
   "execution_count": 32,
   "metadata": {},
   "outputs": [
    {
     "name": "stdout",
     "output_type": "stream",
     "text": [
      "Predictions for [[4.0, 3.0], [7.0, 8.0]]: [[9.821194648742676], [23.15705680847168]]\n"
     ]
    }
   ],
   "source": [
    "X_test = torch.tensor([[4.0, 3.0], [7.0, 8.0]])\n",
    "with torch.no_grad():\n",
    "    predictions = model(X_test)\n",
    "    print(f\"Predictions for {X_test.tolist()}: {predictions.tolist()}\")"
   ]
  },
  {
   "cell_type": "markdown",
   "metadata": {},
   "source": [
    "## Bonus: view(), squeeze() and unsqueeze() problems\n",
    "### Descriptions\n",
    "1. **view()**\n",
    "Reshapes a tensor without changing its underlying data.\n",
    "Key point: The new shape must be compatible with the original number of elements.\n",
    "For example, a tensor with shape (2, 3) has 6 elements. You could view it as (3, 2), (6), (1, 6), etc., because all these target shapes contain exactly 6 elements.\n",
    "\n",
    "2. **squeeze()**\n",
    "Removes all dimensions of size 1 from the tensor shape.\n",
    "Eg: If you have a tensor of shape (1, 3, 1, 4), squeezing it will yield a shape (3, 4).\n",
    "\n",
    "3. **unsqueeze()**\n",
    "Adds a dimension of size 1 at a specified index.\n",
    "Eg: If you have a tensor of shape (3, 4) and you unsqueeze(dim=0), you get (1, 3, 4). If you unsqueeze(dim=2), you get (3, 4, 1).\n"
   ]
  },
  {
   "cell_type": "code",
   "execution_count": 39,
   "metadata": {},
   "outputs": [
    {
     "name": "stdout",
     "output_type": "stream",
     "text": [
      "original: tensor([[ 0.3804, -0.3900,  0.9222],\n",
      "        [ 0.7472, -2.1167, -0.9752]])\n",
      "view: tensor([[ 0.3804, -0.3900],\n",
      "        [ 0.9222,  0.7472],\n",
      "        [-2.1167, -0.9752]]), tensor([ 0.3804, -0.3900,  0.9222,  0.7472, -2.1167, -0.9752])\n",
      "transpose: tensor([[ 0.3804,  0.7472],\n",
      "        [-0.3900, -2.1167],\n",
      "        [ 0.9222, -0.9752]])\n"
     ]
    }
   ],
   "source": [
    "a = torch.randn(2, 3)\n",
    "print(f\"original: {a}\")\n",
    "print(f\"view: {a.view(3, 2)}, {a.view(-1)}\")\n",
    "print(f\"transpose: {a.T}\") #Transpose is different from view"
   ]
  },
  {
   "cell_type": "code",
   "execution_count": 44,
   "metadata": {},
   "outputs": [
    {
     "name": "stdout",
     "output_type": "stream",
     "text": [
      "original: torch.Size([1, 3, 1, 2])\n",
      "squeeze all: torch.Size([3, 2])\n",
      "partial squeeze at dim=2: torch.Size([1, 3, 2])\n",
      "unsqueeze at dim 0: torch.Size([1, 1, 3, 1, 2])\n"
     ]
    }
   ],
   "source": [
    "b = torch.randn((1, 3, 1, 2))\n",
    "print(f\"original: {b.shape}\")\n",
    "print(f\"squeeze all: {b.squeeze().shape}\")\n",
    "print(f\"partial squeeze at dim=2: {b.squeeze(dim=2).shape}\")\n",
    "print(f\"unsqueeze at dim 0: {b.unsqueeze(dim=0).shape}\")\n"
   ]
  },
  {
   "cell_type": "code",
   "execution_count": null,
   "metadata": {},
   "outputs": [],
   "source": []
  }
 ],
 "metadata": {
  "kernelspec": {
   "display_name": "mylogs--5zRa99S-py3.10",
   "language": "python",
   "name": "python3"
  },
  "language_info": {
   "codemirror_mode": {
    "name": "ipython",
    "version": 3
   },
   "file_extension": ".py",
   "mimetype": "text/x-python",
   "name": "python",
   "nbconvert_exporter": "python",
   "pygments_lexer": "ipython3",
   "version": "3.10.9"
  }
 },
 "nbformat": 4,
 "nbformat_minor": 2
}
