{
 "cells": [
  {
   "cell_type": "code",
   "execution_count": 4,
   "metadata": {},
   "outputs": [
    {
     "name": "stdout",
     "output_type": "stream",
     "text": [
      "No luck\n"
     ]
    }
   ],
   "source": [
    "# The most optimized solution\n",
    "num = [2, -5, -4, 45, 120]\n",
    "target = 57\n",
    "num_sorted = sorted(num)\n",
    "l, r = 0, len(num)-1\n",
    "while l<r:\n",
    "    current_sum = num_sorted[l] + num_sorted[r]\n",
    "    if current_sum < target:\n",
    "        l += 1\n",
    "    elif current_sum > target:\n",
    "        r -= 1\n",
    "    else:\n",
    "        raise Exception([num_sorted[l], num_sorted[r]])\n",
    "print(\"No luck\")"
   ]
  },
  {
   "cell_type": "code",
   "execution_count": null,
   "metadata": {},
   "outputs": [],
   "source": []
  }
 ],
 "metadata": {
  "kernelspec": {
   "display_name": "mylogs--5zRa99S-py3.10",
   "language": "python",
   "name": "python3"
  },
  "language_info": {
   "codemirror_mode": {
    "name": "ipython",
    "version": 3
   },
   "file_extension": ".py",
   "mimetype": "text/x-python",
   "name": "python",
   "nbconvert_exporter": "python",
   "pygments_lexer": "ipython3",
   "version": "3.10.9"
  }
 },
 "nbformat": 4,
 "nbformat_minor": 2
}
