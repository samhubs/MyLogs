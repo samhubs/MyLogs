{
 "cells": [
  {
   "cell_type": "markdown",
   "metadata": {},
   "source": [
    "# Problem: Implement parameter initialization strategies for a CNN model in Pytorch\n",
    "\n",
    "### Problem Statement\n",
    "You are tasked with employing and evaluating a CNN model\\'s parameter initialization strategies in Pytorch. \n",
    "Your goal is to initialize the weights and biases of a vanilla CNN model provided in the problem statement and comment on the implications of each strategy.\n",
    "\n",
    "### Requirements\n",
    "1. **Initialize** weights and biases in the following ways:\n",
    "   - **Zero Initialization**: set the parameters to zero\n",
    "   - **Random Initialization**: sets model parameters to random values drawn from a normal distribution \n",
    "   - **Xavier Initialization** sets them to random values from a normal distribution with **mean=0 and variance=1\\/n**\n",
    "   - **Kaiming He Initialization** initializes to random values from a normal distribution with **mean=0 and variance=2\\/n**\n",
    "2. Train and compute accuracy for each strategy\n",
    "### Constraints\n",
    "- Use the given CNN model and the training and testing helper functions for accuracy computations.\n",
    "- Ensure the model is compatible with the CIFAR-10 dataset, which contains 10 classes.\n",
    "\n",
    "\n",
    "<details>\n",
    "  <summary>💡 Hint</summary>\n",
    "  - Use `torch.nn.init` for weight initialization\n",
    "  <br>\n",
    "  - Resources to read: [All you need is a good init](https://arxiv.org/pdf/1511.06422)\n",
    "</details>"
   ]
  },
  {
   "cell_type": "markdown",
   "metadata": {},
   "source": []
  }
 ],
 "metadata": {
  "language_info": {
   "name": "python"
  }
 },
 "nbformat": 4,
 "nbformat_minor": 2
}
