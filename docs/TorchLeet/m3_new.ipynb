{
 "cells": [
  {
   "cell_type": "markdown",
   "metadata": {},
   "source": [
    "# Problem: Implement parameter initialization strategies for a CNN model in Pytorch\n",
    "\n",
    "### Problem Statement\n",
    "You are tasked with employing and evaluating a CNN model\\'s parameter initialization strategies in Pytorch. \n",
    "Your goal is to initialize the weights and biases of a vanilla CNN model provided in the problem statement and comment on the implications of each strategy.\n",
    "\n",
    "### Requirements\n",
    "1. **Initialize** weights and biases in the following ways:\n",
    "   - **Zero Initialization**: set the parameters to zero\n",
    "   - **Random Initialization**: sets model parameters to random values drawn from a normal distribution \n",
    "   - **Xavier Initialization** sets them to random values from a normal distribution with **mean=0 and variance=1\\/n**\n",
    "   - **Kaiming He Initialization** initializes to random values from a normal distribution with **mean=0 and variance=2\\/n**\n",
    "2. Train and compute accuracy for each strategy\n",
    "### Constraints\n",
    "- Use the given CNN model and the training and testing helper functions for accuracy computations.\n",
    "- Ensure the model is compatible with the CIFAR-10 dataset, which contains 10 classes.\n",
    "\n",
    "\n",
    "<details>\n",
    "  <summary>💡 Hint</summary>\n",
    "  - Use `torch.nn.init` for weight initialization\n",
    "  <br>\n",
    "  - Resources to read: [All you need is a good init](https://arxiv.org/pdf/1511.06422)\n",
    "</details>"
   ]
  },
  {
   "cell_type": "code",
   "execution_count": 1,
   "metadata": {},
   "outputs": [],
   "source": [
    "import torch\n",
    "import torch.nn as nn\n",
    "import torch.optim as optim\n",
    "import torchvision\n",
    "import torchvision.transforms as transforms"
   ]
  },
  {
   "cell_type": "code",
   "execution_count": 2,
   "metadata": {},
   "outputs": [],
   "source": [
    "transform = transforms.Compose([\n",
    "    transforms.ToTensor(),\n",
    "    transforms.Normalize((0.5, 0.5, 0.5), (0.5, 0.5, 0.5))\n",
    "])\n",
    "\n",
    "train_dataset = torchvision.datasets.CIFAR10(\".\", train=True, download=True, transform=transform)\n",
    "train_loader = torch.utils.data.DataLoader(train_dataset, batch_size=32, shuffle=True)\n",
    "\n",
    "test_dataset = torchvision.datasets.CIFAR10(\".\", train=False, download=True transform=transform)\n",
    "test_loader = torch.utils.data.DataLoader(test_dataset, batch_size=32, shuffle=True)\n"
   ]
  },
  {
   "cell_type": "code",
   "execution_count": 12,
   "metadata": {},
   "outputs": [],
   "source": [
    "def train_test_loop(model, train_loader, test_loader, epochs=10):\n",
    "    model.train()\n",
    "    criterion = nn.CrossEntropyLoss()\n",
    "    optimizer = optim.Adam(model.parameters(), lr=0.001)\n",
    "    \n",
    "    for epoch in range(epochs):\n",
    "        for image, label in train_loader:\n",
    "            pred = model(image)\n",
    "            loss = criterion(pred, label)\n",
    "            \n",
    "            optimizer.zero_grad()\n",
    "            loss.backward()\n",
    "            optimizer.step()    \n",
    "        print(f\"Training loss at epoch {epoch} = {loss.item()}\")\n",
    "    \n",
    "    model.eval()\n",
    "    correct = 0\n",
    "    total = 0\n",
    "    with torch.no_grad():\n",
    "        for image_test, label_test in test_loader:\n",
    "            pred_test = model(image_test)\n",
    "            _, pred_test_vals = torch.max(pred_test, dim=1)\n",
    "            total += label_test.size(0)\n",
    "            correct += (pred_test_vals == label_test).sum().item()\n",
    "    print(f\"Test Accuracy = {(correct * 100)/total}\")"
   ]
  },
  {
   "cell_type": "code",
   "execution_count": 10,
   "metadata": {},
   "outputs": [],
   "source": [
    "class VanillaCNNModel(nn.Module):\n",
    "    def __init__(self):\n",
    "        super().__init__()\n",
    "        self.conv1 = nn.Conv2d(3, 32, kernel_size=3, stride=1, padding=1)\n",
    "        self.conv2 = nn.Conv2d(32, 64, kernel_size=3, stride=1, padding=1)\n",
    "        self.pool = nn.MaxPool2d(kernel_size=2, stride=2)\n",
    "        self.fc1 = nn.Linear(64*16*16, 128)\n",
    "        self.fc2 = nn.Linear(128, 10)\n",
    "        self.relu = nn.ReLU()\n",
    "    \n",
    "    def forward(self, x):\n",
    "        x = self.relu(self.conv1(x))\n",
    "        x = self.pool(self.relu(self.conv2(x)))\n",
    "        x = x.view(x.size(0), -1)\n",
    "        x = self.relu(self.fc1(x))\n",
    "        x = self.fc2(x)\n",
    "        return x"
   ]
  },
  {
   "cell_type": "code",
   "execution_count": null,
   "metadata": {},
   "outputs": [],
   "source": [
    "def config_init(init_type=\"kaiming\"):\n",
    "    \n",
    "    def kaiming_init(m):\n",
    "        if isinstance(m, nn.Conv2d):\n",
    "            nn.init.kaiming_normal_(m.weights, mode='fan_out', nonlinearity='relu')\n",
    "            if m.bias:\n",
    "                nn.init.zeros_(m.bias)\n",
    "        elif isinstance(m, nn.Linear):\n",
    "            nn.init.kaiming_normal_(m.weights)\n",
    "            nn.init.constant_(m.bias, 0)\n",
    "            \n",
    "            \n",
    "    def xavier_init(m):\n",
    "        if isinstance(m, (nn.Conv2d, nn.Linear)):\n",
    "            nn.init.xavier_normal_(m.weights)\n",
    "            if m.bias:\n",
    "                nn.init.zeros_(m.bias)\n",
    "                \n",
    "    def zeros_init(m):\n",
    "        nn.init.zeros_(m.weight)\n",
    "        nn.init.zeros_(m.bias)\n",
    "    \n",
    "\n",
    "    initializer_dict = {\"kaiming\": kaiming_init,\n",
    "                        \"xavier\": xavier_init,\n",
    "                        \"zeros\": zeros_init}\n",
    "    \n",
    "    return initializer_dict.get(init_type)"
   ]
  },
  {
   "cell_type": "code",
   "execution_count": 11,
   "metadata": {},
   "outputs": [
    {
     "name": "stdout",
     "output_type": "stream",
     "text": [
      "Training loss at epoch 0 = 0.6223020553588867\n",
      "Training loss at epoch 1 = 0.8977651000022888\n",
      "Training loss at epoch 2 = 0.8346253633499146\n",
      "Training loss at epoch 3 = 0.9152861833572388\n",
      "Training loss at epoch 4 = 0.1343897134065628\n",
      "Training loss at epoch 5 = 0.2141009420156479\n",
      "Training loss at epoch 6 = 0.21372836828231812\n",
      "Training loss at epoch 7 = 0.2076367735862732\n",
      "Training loss at epoch 8 = 0.28994596004486084\n",
      "Training loss at epoch 9 = 0.028403032571077347\n"
     ]
    },
    {
     "ename": "AttributeError",
     "evalue": "__enter__",
     "output_type": "error",
     "traceback": [
      "\u001b[0;31m---------------------------------------------------------------------------\u001b[0m",
      "\u001b[0;31mAttributeError\u001b[0m                            Traceback (most recent call last)",
      "Cell \u001b[0;32mIn[11], line 2\u001b[0m\n\u001b[1;32m      1\u001b[0m model \u001b[38;5;241m=\u001b[39m VanillaCNNModel()\n\u001b[0;32m----> 2\u001b[0m \u001b[43mtrain_test_loop\u001b[49m\u001b[43m(\u001b[49m\u001b[43mmodel\u001b[49m\u001b[43m,\u001b[49m\u001b[43m \u001b[49m\u001b[43mtrain_loader\u001b[49m\u001b[43m,\u001b[49m\u001b[43m \u001b[49m\u001b[43mtest_loader\u001b[49m\u001b[43m,\u001b[49m\u001b[43m \u001b[49m\u001b[43mepochs\u001b[49m\u001b[38;5;241;43m=\u001b[39;49m\u001b[38;5;241;43m10\u001b[39;49m\u001b[43m)\u001b[49m\n",
      "Cell \u001b[0;32mIn[9], line 19\u001b[0m, in \u001b[0;36mtrain_test_loop\u001b[0;34m(model, train_loader, test_loader, epochs)\u001b[0m\n\u001b[1;32m     17\u001b[0m correct \u001b[38;5;241m=\u001b[39m \u001b[38;5;241m0\u001b[39m\n\u001b[1;32m     18\u001b[0m total \u001b[38;5;241m=\u001b[39m \u001b[38;5;241m0\u001b[39m\n\u001b[0;32m---> 19\u001b[0m \u001b[38;5;28;01mwith\u001b[39;00m torch\u001b[38;5;241m.\u001b[39mno_grad:\n\u001b[1;32m     20\u001b[0m     \u001b[38;5;28;01mfor\u001b[39;00m image_test, label_test \u001b[38;5;129;01min\u001b[39;00m test_loader:\n\u001b[1;32m     21\u001b[0m         pred_test \u001b[38;5;241m=\u001b[39m model(image_test)\n",
      "\u001b[0;31mAttributeError\u001b[0m: __enter__"
     ]
    }
   ],
   "source": [
    "model = VanillaCNNModel()\n",
    "train_test_loop(model, train_loader, test_loader, epochs=10)"
   ]
  },
  {
   "cell_type": "code",
   "execution_count": null,
   "metadata": {},
   "outputs": [],
   "source": []
  }
 ],
 "metadata": {
  "kernelspec": {
   "display_name": "mylogs--5zRa99S-py3.10",
   "language": "python",
   "name": "python3"
  },
  "language_info": {
   "codemirror_mode": {
    "name": "ipython",
    "version": 3
   },
   "file_extension": ".py",
   "mimetype": "text/x-python",
   "name": "python",
   "nbconvert_exporter": "python",
   "pygments_lexer": "ipython3",
   "version": "3.10.9"
  }
 },
 "nbformat": 4,
 "nbformat_minor": 2
}
