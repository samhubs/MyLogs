{
 "cells": [
  {
   "cell_type": "markdown",
   "metadata": {},
   "source": [
    "## Implement an LSTM Model"
   ]
  },
  {
   "cell_type": "code",
   "execution_count": 1,
   "metadata": {},
   "outputs": [],
   "source": [
    "import torch\n",
    "import torch.nn as nn\n",
    "import torch.optim as optim\n",
    "import matplotlib.pyplot as plt\n"
   ]
  },
  {
   "cell_type": "code",
   "execution_count": 2,
   "metadata": {},
   "outputs": [
    {
     "name": "stdout",
     "output_type": "stream",
     "text": [
      "torch.Size([100, 1]) torch.Size([100, 1])\n"
     ]
    }
   ],
   "source": [
    "# Generate synthetic sequential data\n",
    "torch.manual_seed(42)\n",
    "sequence_length = 10\n",
    "num_samples = 100\n",
    "\n",
    "# Create a sine wave dataset\n",
    "X = torch.linspace(0, 4 * 3.14159, steps=num_samples).unsqueeze(1) + torch.randn(num_samples, 1)\n",
    "y = torch.sin(X)\n",
    "print(X.shape, y.shape)"
   ]
  },
  {
   "cell_type": "code",
   "execution_count": 3,
   "metadata": {},
   "outputs": [],
   "source": [
    "in_seq, out_seq = [], []\n",
    "for i in range(len(y)-sequence_length):\n",
    "    # print(y[i:i+sequence_length].shape)\n",
    "    in_seq.append(y[i:i+sequence_length])\n",
    "    out_seq.append(y[i + sequence_length])\n"
   ]
  },
  {
   "cell_type": "code",
   "execution_count": 11,
   "metadata": {},
   "outputs": [
    {
     "name": "stdout",
     "output_type": "stream",
     "text": [
      "torch.Size([90, 10, 1]) torch.Size([90, 1])\n"
     ]
    }
   ],
   "source": [
    "X_seq, y_seq = torch.stack(in_seq, dim=0), torch.stack(out_seq, dim=0)\n",
    "print(X_seq.shape, y_seq.shape)\n"
   ]
  },
  {
   "cell_type": "code",
   "execution_count": 12,
   "metadata": {},
   "outputs": [],
   "source": [
    "class LSTMModel(nn.Module):\n",
    "    def __init__(self, input_dim, hidden_units):\n",
    "        super().__init__()\n",
    "        weights_biases_init = lambda : (nn.Parameter(torch.randn(input_dim, hidden_units)),\n",
    "                                        nn.Parameter(torch.randn(hidden_units, hidden_units)),\n",
    "                                        nn.Parameter(torch.zeros(hidden_units)))\n",
    "        self.input_dim = input_dim\n",
    "        self.hidden_units = hidden_units\n",
    "        self.Wxi, self.Whi, self.bi = weights_biases_init()\n",
    "        self.Wxf, self.Whf, self.bf = weights_biases_init()\n",
    "        self.Wxo, self.Who, self.bo = weights_biases_init()\n",
    "        self.Wxc, self.Whc, self.bc = weights_biases_init()\n",
    "        self.fc = nn.Linear(hidden_units, 1)\n",
    "        \n",
    "    def forward(self, inputs, H_C=None):\n",
    "        if not H_C:\n",
    "            H = torch.randn(inputs.shape[0], self.hidden_units)\n",
    "            C = torch.randn(inputs.shape[0], self.hidden_units)\n",
    "        else:\n",
    "            H, C = H_C\n",
    "        outputs = []\n",
    "        for X in inputs:  \n",
    "            # print(X.shape, self.Wxi.shape, self.Whi.shape, self.bi.shape)  \n",
    "            self.It = torch.sigmoid(torch.matmul(X, self.Wxi) + torch.matmul(H, self.Whi) + self.bi)\n",
    "            self.Ft = torch.sigmoid(torch.matmul(X, self.Wxf) + torch.matmul(H, self.Whf) + self.bf)\n",
    "            self.Ot = torch.sigmoid(torch.matmul(X, self.Wxo) + torch.matmul(H, self.Who) + self.bo)\n",
    "            self.Ct = torch.tanh(torch.matmul(X, self.Wxc) + torch.matmul(H, self.Whc) + self.bc)\n",
    "            C = self.Ft * C + self.It * self.Ct\n",
    "            H = self.Ot * torch.tanh(self.Ct)\n",
    "            print(H.shape)\n",
    "            outputs.append(H)\n",
    "        pred = self.fc(torch.stack(outputs))\n",
    "        print(pred.shape)\n",
    "        return pred, (H, C)\n",
    "        \n",
    "    "
   ]
  },
  {
   "cell_type": "code",
   "execution_count": 13,
   "metadata": {},
   "outputs": [],
   "source": [
    "# Define the LSTM Model\n",
    "class LSTMModel_inbuilt(nn.Module):\n",
    "    def __init__(self):\n",
    "        super(LSTMModel_inbuilt, self).__init__()\n",
    "        self.lstm = nn.LSTM(input_size=1, hidden_size=50, num_layers=1, batch_first=True)\n",
    "        self.fc = nn.Linear(50, 1)\n",
    "\n",
    "    def forward(self, x):\n",
    "        out, _ = self.lstm(x)\n",
    "        out = self.fc(out[:, -1, :])  # Use the last output of the LSTM\n",
    "        return out"
   ]
  },
  {
   "cell_type": "code",
   "execution_count": 14,
   "metadata": {},
   "outputs": [
    {
     "name": "stdout",
     "output_type": "stream",
     "text": [
      "torch.Size([90, 10, 1]) torch.Size([90, 1])\n"
     ]
    }
   ],
   "source": [
    "criterion = nn.MSELoss()\n",
    "model = LSTMModel(sequence_length, 8)\n",
    "model_inbuilt = LSTMModel_inbuilt()\n",
    "optimizer = optim.Adam(model.parameters(), lr=0.01)\n",
    "print(X_seq.shape, y_seq.shape)"
   ]
  },
  {
   "cell_type": "code",
   "execution_count": 15,
   "metadata": {},
   "outputs": [
    {
     "name": "stdout",
     "output_type": "stream",
     "text": [
      "Loss: 0.45953768491744995\n",
      "Loss: 0.45953768491744995\n",
      "Loss: 0.45953768491744995\n",
      "Loss: 0.45953768491744995\n",
      "Loss: 0.45953768491744995\n",
      "Loss: 0.45953768491744995\n",
      "Loss: 0.45953768491744995\n",
      "Loss: 0.45953768491744995\n",
      "Loss: 0.45953768491744995\n",
      "Loss: 0.45953768491744995\n"
     ]
    }
   ],
   "source": [
    "epochs = 500\n",
    "for epoch in range(epochs):\n",
    "    state = None\n",
    "    pred = model_inbuilt(X_seq)\n",
    "    loss = criterion(pred, y_seq)\n",
    "    \n",
    "    optimizer.zero_grad()\n",
    "    loss.backward()\n",
    "    optimizer.step()\n",
    "    \n",
    "    if epoch % 50 == 0:\n",
    "        print(f\"Loss: {loss.item()}\")"
   ]
  },
  {
   "cell_type": "code",
   "execution_count": null,
   "metadata": {},
   "outputs": [],
   "source": []
  },
  {
   "cell_type": "code",
   "execution_count": null,
   "metadata": {},
   "outputs": [],
   "source": [
    "# Convert to numpy for plotting\n",
    "with torch.no_grad():\n",
    "    pred_for_vis, _ = model(X_seq) \n",
    "print(pred_for_vis.shape)\n",
    "pred_np = pred_for_vis.squeeze(-1).squeeze(-1).detach().cpu().numpy() \n",
    "print(pred_np.shape)\n",
    "y_np   = y_seq.squeeze(-1).squeeze(-1).detach().cpu().numpy()\n",
    "\n",
    "plt.figure(figsize=(8, 4))\n",
    "plt.plot(y_np, label='Ground Truth')\n",
    "plt.plot(pred_np, label='Predictions')\n",
    "plt.title(\"Sine Wave Fit\")\n",
    "plt.legend()\n",
    "plt.show()"
   ]
  },
  {
   "cell_type": "code",
   "execution_count": null,
   "metadata": {},
   "outputs": [],
   "source": [
    "\n",
    "plt.figure()\n"
   ]
  }
 ],
 "metadata": {
  "kernelspec": {
   "display_name": "mylogs--5zRa99S-py3.10",
   "language": "python",
   "name": "python3"
  },
  "language_info": {
   "codemirror_mode": {
    "name": "ipython",
    "version": 3
   },
   "file_extension": ".py",
   "mimetype": "text/x-python",
   "name": "python",
   "nbconvert_exporter": "python",
   "pygments_lexer": "ipython3",
   "version": "3.10.9"
  }
 },
 "nbformat": 4,
 "nbformat_minor": 2
}
