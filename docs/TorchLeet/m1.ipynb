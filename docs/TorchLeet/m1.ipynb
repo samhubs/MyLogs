{
 "cells": [
  {
   "cell_type": "markdown",
   "metadata": {},
   "source": [
    "## Implement an LSTM Model"
   ]
  },
  {
   "cell_type": "code",
   "execution_count": 5,
   "metadata": {},
   "outputs": [],
   "source": [
    "import torch\n",
    "import torch.nn as nn\n",
    "import torch.optim as optim\n",
    "import matplotlib.pyplot as plt\n"
   ]
  },
  {
   "cell_type": "code",
   "execution_count": 32,
   "metadata": {},
   "outputs": [
    {
     "name": "stdout",
     "output_type": "stream",
     "text": [
      "torch.Size([100, 1]) torch.Size([100, 1])\n"
     ]
    }
   ],
   "source": [
    "# Generate synthetic sequential data\n",
    "torch.manual_seed(42)\n",
    "sequence_length = 10\n",
    "num_samples = 100\n",
    "\n",
    "# Create a sine wave dataset\n",
    "X = torch.linspace(0, 4 * 3.14159, steps=num_samples).unsqueeze(1) + torch.randn(num_samples, 1)\n",
    "y = torch.sin(X)\n",
    "print(X.shape, y.shape)"
   ]
  },
  {
   "cell_type": "code",
   "execution_count": 37,
   "metadata": {},
   "outputs": [],
   "source": [
    "in_seq, out_seq = [], []\n",
    "for i in range(len(y)-sequence_length):\n",
    "    # print(y[i:i+sequence_length].shape)\n",
    "    in_seq.append(y[i:i+sequence_length])\n",
    "    out_seq.append(y[i + sequence_length])\n"
   ]
  },
  {
   "cell_type": "code",
   "execution_count": 40,
   "metadata": {},
   "outputs": [
    {
     "name": "stdout",
     "output_type": "stream",
     "text": [
      "torch.Size([90, 10, 1]) torch.Size([90, 1])\n"
     ]
    }
   ],
   "source": [
    "X_seq, y_seq = torch.stack(in_seq, dim=0), torch.stack(out_seq, dim=0)\n",
    "print(X_seq.shape, y_seq.shape)\n"
   ]
  },
  {
   "cell_type": "code",
   "execution_count": null,
   "metadata": {},
   "outputs": [],
   "source": [
    "class LSTMModel(nn.Module):\n",
    "    def __init__(self, input_dim, hidden_units):\n",
    "        super().__init__()\n",
    "        weights_biases_init = lambda : (nn.Parameter(torch.randn(input_dim, hidden_units)),\n",
    "                                        nn.Parameter(torch.randn(hidden_units, hidden_units)),\n",
    "                                        nn.Parameter(torch.zeros(hidden_units)))\n",
    "        self.input_dim = input_dim\n",
    "        self.hidden_units = hidden_units\n",
    "        self.Wxi, self.Whi, self.bi = weights_biases_init()\n",
    "        self.Wxf, self.Whf, self.bf = weights_biases_init()\n",
    "        self.Wxo, self.Who, self.bo = weights_biases_init()\n",
    "        self.Wxc, self.Whc, self.bc = weights_biases_init()\n",
    "        \n",
    "    def forward(self, X, H_C=None):\n",
    "        if not H_C:\n",
    "            H = torch.randn(X.shape[0], self.hidden_units)\n",
    "            C = torch.randn(X.shape[0], self.input_dim)\n",
    "            self.It = torch.sigmoid(torch.matmul(X, self.Wxi) + torch.matmul(H, self.Whi) + self.bi)\n",
    "            self.Ft = torch.sigmoid(torch.matmul(X, self.Wxf) + torch.matmul(H, self.Whf) + self.bf)\n",
    "            self.Ot = torch.sigmoid(torch.matmul(X, self.Wxo) + torch.matmul(H, self.Who) + self.bo)\n",
    "            self.Ct = torch.tanh(torch.matmul(X, self.Wxc) + torch.matmul(H, self.Whc) + self.bc)\n",
    "            C = torch.matmul(self.Ft, C) + torch.matmul(self.It, self.Ct)\n",
    "            H = torch.matmul(self.Ot, torch.tanh(self.Ct))\n",
    "        "
   ]
  }
 ],
 "metadata": {
  "kernelspec": {
   "display_name": "mylogs--5zRa99S-py3.10",
   "language": "python",
   "name": "python3"
  },
  "language_info": {
   "codemirror_mode": {
    "name": "ipython",
    "version": 3
   },
   "file_extension": ".py",
   "mimetype": "text/x-python",
   "name": "python",
   "nbconvert_exporter": "python",
   "pygments_lexer": "ipython3",
   "version": "3.10.9"
  }
 },
 "nbformat": 4,
 "nbformat_minor": 2
}
