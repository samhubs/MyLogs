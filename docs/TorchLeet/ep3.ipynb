{
 "cells": [
  {
   "cell_type": "code",
   "execution_count": 1,
   "metadata": {},
   "outputs": [],
   "source": [
    "import torch\n",
    "from matplotlib import pyplot as plt\n"
   ]
  },
  {
   "cell_type": "code",
   "execution_count": 12,
   "metadata": {},
   "outputs": [
    {
     "data": {
      "text/plain": [
       "<matplotlib.collections.PathCollection at 0x132ef2fb0>"
      ]
     },
     "execution_count": 12,
     "metadata": {},
     "output_type": "execute_result"
    },
    {
     "data": {
      "image/png": "[encoded data removed]",
      "text/plain": [
       "<Figure size 640x480 with 1 Axes>"
      ]
     },
     "metadata": {},
     "output_type": "display_data"
    }
   ],
   "source": [
    "x = torch.randn(1000, 1)*10\n",
    "y = 2 * x + torch.randn(1000, 1)*5\n",
    "y1 = torch.tanh(x) + x\n",
    "plt.figure()\n",
    "plt.scatter(x, y1)"
   ]
  },
  {
   "cell_type": "code",
   "execution_count": 34,
   "metadata": {},
   "outputs": [],
   "source": [
    "class CustomActivation(torch.nn.Module):\n",
    "    def __init__(self):\n",
    "        super().__init__()\n",
    "        self.layer = torch.nn.Linear(1, 1)\n",
    "\n",
    "    def forward(self, x):\n",
    "        x = self.layer(x)\n",
    "        return x + torch.tanh(x)\n",
    "\n",
    "class CustomDataset(torch.utils.data.Dataset):\n",
    "    def __init__(self, x, y):\n",
    "        super().__init__()\n",
    "        self.x = x\n",
    "        self.y = y\n",
    "    \n",
    "    def __len__(self):\n",
    "        return len(self.x)\n",
    "    \n",
    "    def __getitem__(self, index):\n",
    "        return self.x[index], self.y[index]"
   ]
  },
  {
   "cell_type": "code",
   "execution_count": 35,
   "metadata": {},
   "outputs": [
    {
     "name": "stdout",
     "output_type": "stream",
     "text": [
      "epoch 0, loss 1951.0296630859375\n",
      "epoch 100, loss 654.8230590820312\n",
      "epoch 200, loss 11301.9501953125\n",
      "epoch 300, loss 6948.45751953125\n",
      "epoch 400, loss 34051.70703125\n",
      "epoch 500, loss 6775.62451171875\n",
      "epoch 600, loss 13440.8037109375\n",
      "epoch 700, loss 26994.26953125\n",
      "epoch 800, loss 15382.974609375\n",
      "epoch 900, loss 15562.2001953125\n"
     ]
    }
   ],
   "source": [
    "train_dataset = CustomDataset(x, y)\n",
    "train_loader = torch.utils.data.DataLoader(train_dataset, batch_size=100, shuffle=True)\n",
    "epochs = 1000\n",
    "model = CustomActivation()\n",
    "optimizer = torch.optim.SGD(model.parameters(), lr=0.01)\n",
    "mse = torch.nn.MSELoss()\n",
    "for epoch in range(epochs):\n",
    "    for x_train, y_train in train_loader:\n",
    "        optimizer.zero_grad()\n",
    "        pred = model(x_train)\n",
    "        loss = mse(pred, y_train)\n",
    "        loss.backward()\n",
    "        optimizer.step()\n",
    "    if epoch % 100 == 0:\n",
    "        print(f\"epoch {epoch}, loss {loss}\")\n"
   ]
  },
  {
   "cell_type": "code",
   "execution_count": null,
   "metadata": {},
   "outputs": [],
   "source": []
  }
 ],
 "metadata": {
  "kernelspec": {
   "display_name": "mylogs--5zRa99S-py3.10",
   "language": "python",
   "name": "python3"
  },
  "language_info": {
   "codemirror_mode": {
    "name": "ipython",
    "version": 3
   },
   "file_extension": ".py",
   "mimetype": "text/x-python",
   "name": "python",
   "nbconvert_exporter": "python",
   "pygments_lexer": "ipython3",
   "version": "3.10.9"
  }
 },
 "nbformat": 4,
 "nbformat_minor": 2
}
