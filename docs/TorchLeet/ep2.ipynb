{
 "cells": [
  {
   "cell_type": "code",
   "execution_count": 33,
   "metadata": {},
   "outputs": [],
   "source": [
    "import torch\n",
    "import pandas as pd\n",
    "from matplotlib import pyplot as plt\n",
    "import torch.nn as nn"
   ]
  },
  {
   "cell_type": "code",
   "execution_count": 43,
   "metadata": {},
   "outputs": [],
   "source": [
    "x = torch.randn(1000, 1)*20\n",
    "y = 3*x + torch.randn(1000, 1)*10\n",
    "#optional written the data to disk\n",
    "# data = torch.cat((x, y), dim=1)"
   ]
  },
  {
   "cell_type": "code",
   "execution_count": 35,
   "metadata": {},
   "outputs": [],
   "source": [
    "class CustomDataset(torch.utils.data.Dataset):\n",
    "    def __init__(self, x, y):\n",
    "        super().__init__()\n",
    "        self.x = x\n",
    "        self.y = y\n",
    "    \n",
    "    def __len__(self):\n",
    "        return len(self.x)\n",
    "    \n",
    "    def __getitem__(self, index):\n",
    "        return self.x[index], self.y[index]\n",
    "\n",
    "class LinearRegression(nn.Module):\n",
    "    def __init__(self):\n",
    "        super().__init__()\n",
    "        self.layer = torch.nn.Linear(1, 1)\n",
    "    \n",
    "    def forward(self, x):\n",
    "        x = self.layer(x)\n",
    "        return x"
   ]
  },
  {
   "cell_type": "code",
   "execution_count": 40,
   "metadata": {},
   "outputs": [],
   "source": [
    "input_data = CustomDataset(x, y)\n",
    "train_loader = torch.utils.data.DataLoader(input_data, batch_size=100, shuffle=True)"
   ]
  },
  {
   "cell_type": "code",
   "execution_count": 41,
   "metadata": {},
   "outputs": [],
   "source": [
    "model = LinearRegression()\n",
    "optimizer = torch.optim.Adam(model.parameters(), lr=0.01)\n",
    "mse = torch.nn.MSELoss()"
   ]
  },
  {
   "cell_type": "code",
   "execution_count": 56,
   "metadata": {},
   "outputs": [
    {
     "name": "stdout",
     "output_type": "stream",
     "text": [
      "Epoch: 0, Loss: 83.9809799194336\n",
      "Epoch: 1, Loss: 102.90611267089844\n",
      "Epoch: 2, Loss: 124.49431610107422\n",
      "Epoch: 3, Loss: 120.24299621582031\n",
      "Epoch: 4, Loss: 90.05782318115234\n",
      "Epoch: 5, Loss: 104.9025650024414\n",
      "Epoch: 6, Loss: 115.402099609375\n",
      "Epoch: 7, Loss: 95.73394775390625\n",
      "Epoch: 8, Loss: 119.35352325439453\n",
      "Epoch: 9, Loss: 100.08413696289062\n",
      "Epoch: 10, Loss: 92.15937805175781\n",
      "Epoch: 11, Loss: 101.91339111328125\n",
      "Epoch: 12, Loss: 76.68955993652344\n",
      "Epoch: 13, Loss: 88.67814636230469\n",
      "Epoch: 14, Loss: 97.00345611572266\n",
      "Epoch: 15, Loss: 114.57247924804688\n",
      "Epoch: 16, Loss: 106.88880157470703\n",
      "Epoch: 17, Loss: 97.52734375\n",
      "Epoch: 18, Loss: 100.96595001220703\n",
      "Epoch: 19, Loss: 82.92141723632812\n",
      "Epoch: 20, Loss: 112.59211730957031\n",
      "Epoch: 21, Loss: 96.91487121582031\n",
      "Epoch: 22, Loss: 92.08114624023438\n",
      "Epoch: 23, Loss: 80.76802062988281\n",
      "Epoch: 24, Loss: 99.29635620117188\n",
      "Epoch: 25, Loss: 108.872314453125\n",
      "Epoch: 26, Loss: 107.0978775024414\n",
      "Epoch: 27, Loss: 84.08236694335938\n",
      "Epoch: 28, Loss: 109.24092102050781\n",
      "Epoch: 29, Loss: 81.23637390136719\n",
      "Epoch: 30, Loss: 107.93840789794922\n",
      "Epoch: 31, Loss: 99.43997192382812\n",
      "Epoch: 32, Loss: 98.92430877685547\n",
      "Epoch: 33, Loss: 101.2037582397461\n",
      "Epoch: 34, Loss: 106.32269287109375\n",
      "Epoch: 35, Loss: 106.4268569946289\n",
      "Epoch: 36, Loss: 95.08374786376953\n",
      "Epoch: 37, Loss: 115.07148742675781\n",
      "Epoch: 38, Loss: 111.77100372314453\n",
      "Epoch: 39, Loss: 109.42547607421875\n",
      "Epoch: 40, Loss: 73.78715515136719\n",
      "Epoch: 41, Loss: 115.32867431640625\n",
      "Epoch: 42, Loss: 67.7407455444336\n",
      "Epoch: 43, Loss: 89.81814575195312\n",
      "Epoch: 44, Loss: 108.04017639160156\n",
      "Epoch: 45, Loss: 122.3387680053711\n",
      "Epoch: 46, Loss: 102.8888931274414\n",
      "Epoch: 47, Loss: 111.79405975341797\n",
      "Epoch: 48, Loss: 111.58102416992188\n",
      "Epoch: 49, Loss: 95.45692443847656\n",
      "Epoch: 50, Loss: 101.93637084960938\n",
      "Epoch: 51, Loss: 109.74981689453125\n",
      "Epoch: 52, Loss: 131.04019165039062\n",
      "Epoch: 53, Loss: 83.41092681884766\n",
      "Epoch: 54, Loss: 88.83354187011719\n",
      "Epoch: 55, Loss: 109.17839813232422\n",
      "Epoch: 56, Loss: 109.32867431640625\n",
      "Epoch: 57, Loss: 112.18757629394531\n",
      "Epoch: 58, Loss: 95.73085021972656\n",
      "Epoch: 59, Loss: 93.65557861328125\n",
      "Epoch: 60, Loss: 110.28026580810547\n",
      "Epoch: 61, Loss: 90.27043914794922\n",
      "Epoch: 62, Loss: 89.83802795410156\n",
      "Epoch: 63, Loss: 85.30302429199219\n",
      "Epoch: 64, Loss: 105.96220397949219\n",
      "Epoch: 65, Loss: 105.00464630126953\n",
      "Epoch: 66, Loss: 82.46886444091797\n",
      "Epoch: 67, Loss: 82.99444580078125\n",
      "Epoch: 68, Loss: 130.26220703125\n",
      "Epoch: 69, Loss: 83.93960571289062\n",
      "Epoch: 70, Loss: 79.99016571044922\n",
      "Epoch: 71, Loss: 107.31027221679688\n",
      "Epoch: 72, Loss: 99.7060317993164\n",
      "Epoch: 73, Loss: 97.14232635498047\n",
      "Epoch: 74, Loss: 115.22161102294922\n",
      "Epoch: 75, Loss: 80.2358169555664\n",
      "Epoch: 76, Loss: 97.16792297363281\n",
      "Epoch: 77, Loss: 129.57127380371094\n",
      "Epoch: 78, Loss: 87.16011810302734\n",
      "Epoch: 79, Loss: 111.53355407714844\n",
      "Epoch: 80, Loss: 120.34493255615234\n",
      "Epoch: 81, Loss: 109.67355346679688\n",
      "Epoch: 82, Loss: 109.25987243652344\n",
      "Epoch: 83, Loss: 83.51990509033203\n",
      "Epoch: 84, Loss: 84.91849517822266\n",
      "Epoch: 85, Loss: 96.15998840332031\n",
      "Epoch: 86, Loss: 106.4148941040039\n",
      "Epoch: 87, Loss: 109.1205825805664\n",
      "Epoch: 88, Loss: 104.28340911865234\n",
      "Epoch: 89, Loss: 106.3111801147461\n",
      "Epoch: 90, Loss: 92.4295883178711\n",
      "Epoch: 91, Loss: 107.8516616821289\n",
      "Epoch: 92, Loss: 102.6821517944336\n",
      "Epoch: 93, Loss: 89.59619903564453\n",
      "Epoch: 94, Loss: 110.4598159790039\n",
      "Epoch: 95, Loss: 119.72273254394531\n",
      "Epoch: 96, Loss: 101.86300659179688\n",
      "Epoch: 97, Loss: 107.02574157714844\n",
      "Epoch: 98, Loss: 99.82848358154297\n",
      "Epoch: 99, Loss: 91.35836791992188\n"
     ]
    },
    {
     "data": {
      "text/plain": [
       "[<matplotlib.lines.Line2D at 0x166e53f10>]"
      ]
     },
     "execution_count": 56,
     "metadata": {},
     "output_type": "execute_result"
    },
    {
     "data": {
      "image/png": "[encoded data removed]",
      "text/plain": [
       "<Figure size 640x480 with 1 Axes>"
      ]
     },
     "metadata": {},
     "output_type": "display_data"
    }
   ],
   "source": [
    "epochs = 100\n",
    "for epoch in range(epochs):\n",
    "    for x_train, y_train in train_loader:\n",
    "        optimizer.zero_grad()\n",
    "        pred = model(x_train) \n",
    "        loss = mse(pred, y_train)\n",
    "        loss.backward()\n",
    "        optimizer.step()\n",
    "    print(f\"Epoch: {epoch}, Loss: {loss}\")\n",
    "with torch.no_grad():\n",
    "    y_pred = model(x)\n",
    "plt.figure()\n",
    "plt.scatter(x, y)\n",
    "plt.plot(x, y_pred)"
   ]
  },
  {
   "cell_type": "code",
   "execution_count": null,
   "metadata": {},
   "outputs": [],
   "source": []
  }
 ],
 "metadata": {
  "kernelspec": {
   "display_name": "mylogs--5zRa99S-py3.10",
   "language": "python",
   "name": "python3"
  },
  "language_info": {
   "codemirror_mode": {
    "name": "ipython",
    "version": 3
   },
   "file_extension": ".py",
   "mimetype": "text/x-python",
   "name": "python",
   "nbconvert_exporter": "python",
   "pygments_lexer": "ipython3",
   "version": "3.10.9"
  }
 },
 "nbformat": 4,
 "nbformat_minor": 2
}
