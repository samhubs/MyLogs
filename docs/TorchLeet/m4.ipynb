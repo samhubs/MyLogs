{
 "cells": [
  {
   "cell_type": "code",
   "execution_count": 1,
   "metadata": {},
   "outputs": [],
   "source": [
    "import torch.optim as optim\n",
    "import torch.nn as nn\n",
    "import torch\n",
    "import matplotlib.pyplot as plt"
   ]
  },
  {
   "cell_type": "code",
   "execution_count": 4,
   "metadata": {},
   "outputs": [
    {
     "name": "stdout",
     "output_type": "stream",
     "text": [
      "torch.Size([100, 1]) torch.Size([100, 1])\n",
      "torch.Size([90, 10, 1]) torch.Size([90, 1])\n"
     ]
    }
   ],
   "source": [
    "torch.manual_seed(42)\n",
    "num_samples = 100\n",
    "sequence_length = 10\n",
    "X = torch.linspace(0, 4*3.14, steps=num_samples).unsqueeze(1)\n",
    "y = torch.sin(X)\n",
    "print(X.shape, y.shape)\n",
    "\n",
    "def create_seq(x, y):\n",
    "    in_seq, out_seq = [], []\n",
    "    \n",
    "    for i in range(num_samples-sequence_length):\n",
    "        in_seq.append(y[i:i+sequence_length])\n",
    "        out_seq.append(y[i+sequence_length])\n",
    "    \n",
    "    in_seq = torch.stack(in_seq, dim=0)\n",
    "    out_seq = torch.stack(out_seq, dim=0)\n",
    "    \n",
    "    print(in_seq.shape, out_seq.shape)\n",
    "\n",
    "create_seq(X, y)"
   ]
  },
  {
   "cell_type": "code",
   "execution_count": 9,
   "metadata": {},
   "outputs": [],
   "source": [
    "class RNNModel(nn.Module):\n",
    "    def __init__(self):\n",
    "        super().__init__()\n",
    "        self.rnn = nn.RNN(1, 50)\n",
    "        self.fc = nn.Linear(50, 1)\n",
    "        \n",
    "    def forward(self, x):\n",
    "        x, h = self.rnn(x)\n",
    "        x = self.fc(x)\n",
    "        return x"
   ]
  },
  {
   "cell_type": "code",
   "execution_count": 11,
   "metadata": {},
   "outputs": [
    {
     "name": "stdout",
     "output_type": "stream",
     "text": [
      "loss = 0.46553653478622437\n"
     ]
    }
   ],
   "source": [
    "model = RNNModel()\n",
    "criterion = nn.MSELoss()\n",
    "optimizer = optim.SGD(model.parameters(), lr=0.01)\n",
    "epochs = 10\n",
    "for epoch in range(epochs):\n",
    "    pred = model(X)\n",
    "    loss = criterion(pred, y)\n",
    "    loss.backward()\n",
    "    optimizer.zero_grad()\n",
    "    optimizer.step()\n",
    "    \n",
    "print(f\"loss = {loss}\")"
   ]
  },
  {
   "cell_type": "code",
   "execution_count": null,
   "metadata": {},
   "outputs": [],
   "source": []
  }
 ],
 "metadata": {
  "kernelspec": {
   "display_name": "mylogs--5zRa99S-py3.10",
   "language": "python",
   "name": "python3"
  },
  "language_info": {
   "codemirror_mode": {
    "name": "ipython",
    "version": 3
   },
   "file_extension": ".py",
   "mimetype": "text/x-python",
   "name": "python",
   "nbconvert_exporter": "python",
   "pygments_lexer": "ipython3",
   "version": "3.10.9"
  }
 },
 "nbformat": 4,
 "nbformat_minor": 2
}
