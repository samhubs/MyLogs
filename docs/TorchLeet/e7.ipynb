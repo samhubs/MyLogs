{
 "cells": [
  {
   "cell_type": "code",
   "execution_count": 24,
   "metadata": {},
   "outputs": [],
   "source": [
    "import torch\n",
    "import torch.nn as nn\n",
    "import torch.optim as optim\n",
    "import matplotlib.pyplot as plt"
   ]
  },
  {
   "cell_type": "code",
   "execution_count": 25,
   "metadata": {},
   "outputs": [],
   "source": [
    "class CustomLoss(nn.Module):\n",
    "    def __init__(self):\n",
    "        super().__init__()\n",
    "    \n",
    "    def forward(self, pred, true):\n",
    "        loss = (pred - true)**2\n",
    "        return loss.mean()\n",
    "    \n",
    "        "
   ]
  },
  {
   "cell_type": "code",
   "execution_count": 26,
   "metadata": {},
   "outputs": [],
   "source": [
    "class CustomModel(nn.Module):\n",
    "    def __init__(self):\n",
    "        super().__init__()\n",
    "        self.network = nn.Sequential(\n",
    "            nn.Linear(2, 8),\n",
    "            nn.ReLU(),\n",
    "            nn.Linear(8, 1)\n",
    "        )\n",
    "        \n",
    "    def forward(self, x):\n",
    "        return self.network(x)"
   ]
  },
  {
   "cell_type": "code",
   "execution_count": 27,
   "metadata": {},
   "outputs": [],
   "source": [
    "class CustomDataset(torch.utils.data.Dataset):\n",
    "    def __init__(self, X, y):\n",
    "        super(CustomDataset, self).__init__()\n",
    "        self.X = X\n",
    "        self.y = y\n",
    "    \n",
    "    def __len__(self):\n",
    "        return len(self.y)\n",
    "    \n",
    "    def __getitem__(self, idx):\n",
    "        return X[idx, :], y[idx]"
   ]
  },
  {
   "cell_type": "code",
   "execution_count": 28,
   "metadata": {},
   "outputs": [
    {
     "name": "stdout",
     "output_type": "stream",
     "text": [
      "torch.Size([1000, 2]) torch.Size([1000, 1])\n",
      "<__main__.CustomDataset object at 0x131cbefe0>\n",
      "2\n"
     ]
    }
   ],
   "source": [
    "X = torch.randn(1000, 2)\n",
    "y = 3 * torch.mul(X[:, 0], X[:, 1]).unsqueeze(1) + torch.randn(1000, 1)*3\n",
    "print(X.shape, y.shape)\n",
    "dataset = CustomDataset(X, y)\n",
    "print(dataset)\n",
    "dataloader = torch.utils.data.DataLoader(dataset, batch_size=100, shuffle=True)\n",
    "print(len(next(iter(dataloader))))"
   ]
  },
  {
   "cell_type": "code",
   "execution_count": 29,
   "metadata": {},
   "outputs": [
    {
     "name": "stdout",
     "output_type": "stream",
     "text": [
      "Loss: 20.795549392700195\n",
      "Loss: 11.477770805358887\n",
      "Loss: 10.886364936828613\n",
      "Loss: 8.334315299987793\n",
      "Loss: 8.210415840148926\n",
      "Loss: 7.873299598693848\n",
      "Loss: 9.052928924560547\n",
      "Loss: 8.413309097290039\n",
      "Loss: 8.281631469726562\n",
      "Loss: 9.855108261108398\n"
     ]
    }
   ],
   "source": [
    "model = CustomModel()\n",
    "optimizer = optim.SGD(model.parameters(), lr=0.01)\n",
    "criterion = CustomLoss()\n",
    "\n",
    "epochs = 1000\n",
    "for epoch in range(epochs):\n",
    "    for X_train, y_train in dataloader:\n",
    "        pred = model(X_train)\n",
    "        loss = criterion(pred, y_train)\n",
    "        optimizer.zero_grad()\n",
    "        loss.backward()\n",
    "        optimizer.step()\n",
    "    \n",
    "    if epoch % 100 == 0:\n",
    "        print(f\"Loss: {loss.item()}\")"
   ]
  },
  {
   "cell_type": "code",
   "execution_count": 30,
   "metadata": {},
   "outputs": [
    {
     "name": "stdout",
     "output_type": "stream",
     "text": [
      "name: network.0.weight and size: torch.Size([8, 2])\n",
      "name: network.0.bias and size: torch.Size([8])\n",
      "name: network.2.weight and size: torch.Size([1, 8])\n",
      "name: network.2.bias and size: torch.Size([1])\n"
     ]
    }
   ],
   "source": [
    "#Explore state_dict\n",
    "for param in model.state_dict():\n",
    "    print(f\"name: {param} and size: {model.state_dict()[param].size()}\")"
   ]
  },
  {
   "cell_type": "code",
   "execution_count": 31,
   "metadata": {},
   "outputs": [],
   "source": [
    "torch.save(model.state_dict(), \"model.pth\")"
   ]
  },
  {
   "cell_type": "code",
   "execution_count": 32,
   "metadata": {},
   "outputs": [
    {
     "name": "stderr",
     "output_type": "stream",
     "text": [
      "/var/folders/st/2jlnq0ld019_1m1pwbr32slh0000gn/T/ipykernel_36128/2347314808.py:2: FutureWarning: You are using `torch.load` with `weights_only=False` (the current default value), which uses the default pickle module implicitly. It is possible to construct malicious pickle data which will execute arbitrary code during unpickling (See https://github.com/pytorch/pytorch/blob/main/SECURITY.md#untrusted-models for more details). In a future release, the default value for `weights_only` will be flipped to `True`. This limits the functions that could be executed during unpickling. Arbitrary objects will no longer be allowed to be loaded via this mode unless they are explicitly allowlisted by the user via `torch.serialization.add_safe_globals`. We recommend you start setting `weights_only=True` for any use case where you don't have full control of the loaded file. Please open an issue on GitHub for any issues related to this experimental feature.\n",
      "  loaded_model = model1.load_state_dict(torch.load(\"model.pth\"))\n"
     ]
    }
   ],
   "source": [
    "model1 = CustomModel()\n",
    "loaded_model = model1.load_state_dict(torch.load(\"model.pth\"))"
   ]
  },
  {
   "cell_type": "code",
   "execution_count": 35,
   "metadata": {},
   "outputs": [
    {
     "name": "stdout",
     "output_type": "stream",
     "text": [
      "Predictions after loading: tensor([[2.4699]])\n"
     ]
    }
   ],
   "source": [
    "# Verify the model works after loading\n",
    "X_test = torch.tensor([[0.5, 1.0]])\n",
    "with torch.no_grad():\n",
    "    pred = model1(X_test)\n",
    "    print(f\"Predictions after loading: {pred}\")"
   ]
  },
  {
   "cell_type": "code",
   "execution_count": null,
   "metadata": {},
   "outputs": [],
   "source": []
  }
 ],
 "metadata": {
  "kernelspec": {
   "display_name": "mylogs--5zRa99S-py3.10",
   "language": "python",
   "name": "python3"
  },
  "language_info": {
   "codemirror_mode": {
    "name": "ipython",
    "version": 3
   },
   "file_extension": ".py",
   "mimetype": "text/x-python",
   "name": "python",
   "nbconvert_exporter": "python",
   "pygments_lexer": "ipython3",
   "version": "3.10.9"
  }
 },
 "nbformat": 4,
 "nbformat_minor": 2
}
